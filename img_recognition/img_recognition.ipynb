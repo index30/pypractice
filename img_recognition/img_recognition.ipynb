{
 "cells": [
  {
   "cell_type": "markdown",
   "metadata": {},
   "source": [
    "# 機械学習 手書き文字認識編\n",
    "\n",
    "機械学習と一口に言っても様々なものがあります  \n",
    "人工知能だったり、画像認識だったり、はたまたクラス分類だったり...  \n",
    "今回はそのなかでも画像認識と分類を合わせた感じの部分をやっていきます  \n",
    "\n",
    "## 用意するもの\n",
    "\n",
    "・Python3  \n",
    "Python2での実行は保証しません。今後のためにも是非Python3に移行してやってみて下さい  \n",
    "\n",
    "・データセット  \n",
    "http://www.cad.zju.edu.cn/home/dengcai/Data/MLData.html  \n",
    "ここに用意されているUSPS.matをダウンロードして下さい  \n",
    "MATLABは使わないので、ダウンロードしたデータは単純に実行したいディレクトリ内に移すようにして下さい  \n",
    "以下の様なコードでデータを扱う事が出来ます"
   ]
  },
  {
   "cell_type": "code",
   "execution_count": 30,
   "metadata": {
    "collapsed": false
   },
   "outputs": [
    {
     "data": {
      "text/plain": [
       "<matplotlib.image.AxesImage at 0x11071dda0>"
      ]
     },
     "execution_count": 30,
     "metadata": {},
     "output_type": "execute_result"
    },
    {
     "data": {
      "image/png": "[encoded data removed]",
      "text/plain": [
       "<matplotlib.figure.Figure at 0x10ef9d9e8>"
      ]
     },
     "metadata": {},
     "output_type": "display_data"
    }
   ],
   "source": [
    "import numpy as np\n",
    "import scipy as sp\n",
    "import scipy.io\n",
    "import matplotlib.pyplot as plt\n",
    "\n",
    "#numpy.ndarrayオブジェクトとして格納される\n",
    "#特徴量のデータ\n",
    "fea_data = scipy.io.loadmat(\"./USPS.mat\")['fea']\n",
    "#ラベルのデータ\n",
    "gnd_data = scipy.io.loadmat(\"./USPS.mat\")['gnd']\n",
    "\n",
    "#訓練データとそのラベル(id)\n",
    "#以下の様に定義した時、train_dataは1706*256のデータを持つ事になる\n",
    "#1つの行が1つの手書き数字の画像を表している\n",
    "train_data = fea_data[1:1707,:]\n",
    "train_id = gnd_data[1:1707]\n",
    "#テストデータとそのラベル(id)\n",
    "test_data = fea_data[7292:7292+2006,:]\n",
    "test_id = gnd_data[7292:7292+2006]\n",
    "\n",
    "#画像を表示する際は以下の通りに行列を整形し直して表示\n",
    "plt.imshow(test_data[1,:].reshape((16,16)),cmap='Greys_r')\n"
   ]
  },
  {
   "cell_type": "markdown",
   "metadata": {},
   "source": [
    "## 手始めに\n",
    "まずは平均値による分類をやってみましょう。結構\"分類\"と\"クラスタリング\"を混同しがちですが、今回は\"分類\"に部類分けされます  \n",
    "アバウトに言ってしまえば両者の違いは教師\"あり\"か\"無し\"かになります  \n",
    "分類は、**特定の分け方を再現するモデルを作成するもの**  \n",
    "クラスタリングは、**潜在する「集まり」を再現するもの**  \n",
    "と思ってもらえれば良いです  \n",
    "\n",
    "参考元 http://www.mindware-jp.com/basic/group.html  \n",
    "        　　http://gihyo.jp/dev/serial/01/machine-learning/0015\n",
    "          \n",
    "以下のコードで平均値の分類を行えます。この時点で数学的知識はほとんど必要ありません。単純に機械学習、特に分類におけるPythonの使い方を覚えてくだされば十分です\n"
   ]
  },
  {
   "cell_type": "code",
   "execution_count": 97,
   "metadata": {
    "collapsed": false
   },
   "outputs": [
    {
     "name": "stdout",
     "output_type": "stream",
     "text": [
      "81.10667996011965\n"
     ]
    }
   ],
   "source": [
    "import numpy as np\n",
    "import scipy as sp\n",
    "import scipy.io\n",
    "import matplotlib.pyplot as plt\n",
    "\n",
    "#numpy.ndarrayオブジェクトとして格納される\n",
    "#特徴量のデータ\n",
    "fea_data = scipy.io.loadmat(\"./USPS.mat\")['fea']\n",
    "#ラベルのデータ\n",
    "gnd_data = scipy.io.loadmat(\"./USPS.mat\")['gnd']\n",
    "\n",
    "#訓練データとそのラベル(id)\n",
    "train_data = fea_data[1:1707,:]\n",
    "train_id = gnd_data[1:1707]\n",
    "#テストデータとそのラベル(id)\n",
    "test_data = fea_data[7292:7292+2006,:]\n",
    "test_id = gnd_data[7292:7292+2006]\n",
    "\n",
    "#ラベルごとの画像の平均をとった行列の作成\n",
    "def img_average(train_data,train_id):\n",
    "    A = np.zeros((10,256))\n",
    "    id_len = train_id.size\n",
    "    count = np.zeros((1,10))\n",
    "    for s in range(id_len):\n",
    "        pos = train_id[s]\n",
    "        A[pos-1,:] += train_data[s,:]\n",
    "        count[0][pos-1] += 1\n",
    "    for t in range(10):\n",
    "        A[t,:] = A[t,:]/count[0][t]\n",
    "    return A\n",
    "\n",
    "#最小二乗法(恐らく広義における最小二乗法)による分類\n",
    "#分類に対する正解率を出力としている\n",
    "def square_least(r_A,test_data,test_id):\n",
    "    id_len = test_id.size\n",
    "    diff = np.zeros((10,256))\n",
    "    correct = 0\n",
    "    for x in range(id_len):\n",
    "        diff = np.linalg.norm(r_A[0,:] - test_data[x,:])\n",
    "        num = 0\n",
    "        for y in range(1,10):\n",
    "            diff_v = np.linalg.norm(r_A[y,:] - test_data[x,:])\n",
    "            if diff > diff_v:\n",
    "                diff = diff_v\n",
    "                num = y\n",
    "        if test_id[x] == num+1:\n",
    "            correct += 1\n",
    "    return (correct/id_len)*100\n",
    "\n",
    "result = img_average(train_data,train_id)\n",
    "pca = square_least(result,test_data,test_id)\n",
    "print(pca)"
   ]
  },
  {
   "cell_type": "markdown",
   "metadata": {},
   "source": [
    "img_averageは、与えられた訓練データ(train_data)に与えられたラベル(train_id)に応じて訓練データを分けて格納する行列を作成し、それぞれの行をラベル数で割っています\n",
    "\n",
    "square_leastは、恐らく正確な最小二乗法ではありませんが、行の差のノルムを取っているので最小二乗法として捉えて考えています  \n",
    "今回は最小二乗法、すなわちノルムを最小にするようなラベルに分類していきましたが、分類の仕方は様々です  \n",
    "例えば、各行をベクトルとして捉え、各行とテストデータのなす角が最小になるように取る手法も存在します(コサイン類似度)  \n",
    "ただしその場合、正解率は少し落ちて80%付近になります  \n",
    "\n",
    "出力されている正解率を見れば分かる通り、八割の正解率を出しているこの手法は悪くないように思えます。ですが、機械学習的にはまだ満足のいかない、まだ突き詰めなければならないと思う訳です  \n",
    "\n",
    "## 性能の向上\n",
    "\n",
    "という訳で、先程の正解率よりも更に正確であるような手法について考えて行きます  \n",
    "\n",
    "### 主成分分析\n",
    "\n",
    "機械学習に触れてみようとした人ならば一度や二度は聞いた事があるのではないでしょうか  \n",
    "恐らくアヤメの分類における実験が一番有名なはずです(個人差あり)  \n",
    "今回は、これを用いて先程のデータセットについて分類していきたいと思います  "
   ]
  },
  {
   "cell_type": "markdown",
   "metadata": {},
   "source": [
    "## SVD\n",
    "SVDとは、特異値分解の事です   \n",
    "特異値分解とは、任意の$m \\times n$行列に対して  \n",
    "$ A = U \\Sigma V $　  \n",
    "となるような  \n",
    "$m \\times m$の直交行列$U$　  \n",
    "$n \\times n$の直交行列$V$  \n",
    "$m \\times n$の、対角成分に特異値を含む対角行列$\\Sigma$  "
   ]
  },
  {
   "cell_type": "code",
   "execution_count": 23,
   "metadata": {
    "collapsed": false
   },
   "outputs": [
    {
     "data": {
      "text/plain": [
       "<matplotlib.image.AxesImage at 0x10c398e48>"
      ]
     },
     "execution_count": 23,
     "metadata": {},
     "output_type": "execute_result"
    }
   ],
   "source": [
    "import numpy as np\n",
    "import scipy as sp\n",
    "import scipy.io\n",
    "import matplotlib.pyplot as plt\n",
    "\n",
    "fea_data = scipy.io.loadmat(\"./USPS.mat\")['fea']\n",
    "gnd_data = scipy.io.loadmat(\"./USPS.mat\")['gnd']\n",
    "\n",
    "train_data = fea_data[1:1707,:]\n",
    "train_id = gnd_data[1:1707]\n",
    "test_data = fea_data[7292:7292+2006,:]\n",
    "test_id = gnd_data[7292:7292+2006]\n",
    "\n",
    "n = 6\n",
    "find_num = [i for i, x in enumerate(train_id) if x == n]\n",
    "temp = train_data[find_num[0],:]\n",
    "for s in range(1,len(find_num)):\n",
    "    temp = np.vstack((temp,train_data[find_num[s],:]))\n",
    "A = temp.transpose()\n",
    "U,s,V = np.linalg.svd(A)\n",
    "\n",
    "plt.imshow(U[:,0].reshape((16,16)),cmap='Greys_r')"
   ]
  },
  {
   "cell_type": "code",
   "execution_count": null,
   "metadata": {
    "collapsed": true
   },
   "outputs": [],
   "source": []
  }
 ],
 "metadata": {
  "kernelspec": {
   "display_name": "Python 3",
   "language": "python",
   "name": "python3"
  },
  "language_info": {
   "codemirror_mode": {
    "name": "ipython",
    "version": 3
   },
   "file_extension": ".py",
   "mimetype": "text/x-python",
   "name": "python",
   "nbconvert_exporter": "python",
   "pygments_lexer": "ipython3",
   "version": "3.5.1"
  }
 },
 "nbformat": 4,
 "nbformat_minor": 0
}
